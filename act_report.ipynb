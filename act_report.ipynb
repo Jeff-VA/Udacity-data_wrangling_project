{
 "cells": [
  {
   "cell_type": "markdown",
   "metadata": {},
   "source": [
    "\n",
    "\n",
    "\n",
    "# Insights from WeRateDogs Twitter Data"
   ]
  },
  {
   "cell_type": "markdown",
   "metadata": {},
   "source": [
    "Through the use of code and data analysis, interesting insights can come from even the most light-hearted twitter pages.  The following visualizations and insights were all accomplished through the use of python code and its packages."
   ]
  },
  {
   "cell_type": "markdown",
   "metadata": {},
   "source": [
    "## Question 1: Is there any significant difference between the top ten dog types and thier favorite counts?"
   ]
  },
  {
   "cell_type": "markdown",
   "metadata": {},
   "source": [
    "Through the use of python code, any differences in favorites were easily found by filtering WeRateDogs twitter data.  Prior to intepreting the visualization below, please note the following two parameters.\n",
    "- The ten dog breeds observed by each of the bars represents one of the top ten most commonly predicted dog breeds by a machine learning algorithm.\n",
    "- Each of the collumn totals represents the average number of favorites per tweet, allowing them to be compared despite the varying total posts.  "
   ]
  },
  {
   "cell_type": "markdown",
   "metadata": {},
   "source": [
    "![title](averages_of_topdogs.png)"
   ]
  },
  {
   "cell_type": "markdown",
   "metadata": {},
   "source": [
    "**Summary of Visualization:**\n",
    "\n",
    "There does appear to be a noteworthy difference in number of favorites depending on dog breed.  For example, the 'samoyed' gets more than twice the number of likes on average than the 'pug'.  However, they all appear to be within a similar range of about 5000 to 13000 favorites.  It can be reasonably assumed that many varieties of dogs are worthy of impossibly high ratings."
   ]
  },
  {
   "cell_type": "markdown",
   "metadata": {},
   "source": [
    "## Question 2: Is there any correlation between dog rating and the occorance of a dog title?"
   ]
  },
  {
   "cell_type": "markdown",
   "metadata": {},
   "source": [
    "In many of the WeRateDogs twitter posts, there are four common dog titles, 'doggo', 'floofer', 'pupper', and 'puppo', that are used in the post depending on the stage of the dog's life cycle.  Additionally, each post usually has a greater than ten put of ten rating.  It would be interesting to see if having a specific dog title has an impact on dog rating.  This is easily accomplished with python code by filtering posts that definitelly rave a rating denominator of ten, and grouping them by each primary dog title and average rating numerator.  The results are as follows:\n",
    "\n",
    "| Dog Title | Average Rating Numerator |\n",
    "| --------- | ------------------------ |\n",
    "| doggo     | $\\approx 11.90$          |\n",
    "| floofer   | $\\approx 12.00$          |\n",
    "| pupper    | $\\approx 11.06$          |\n",
    "| puppo     | $\\approx 12.00$          |\n",
    "| no title  | $\\approx 10.91$          |\n",
    "\n",
    "It is not apparent that there is significant difference between average rating for each dog title or even having a dog title.  All five of the average numerators are between 10.90 and 12.00.  However, it is hard not to notice that the average rating for titleless dogs is lower than all four title categories."
   ]
  },
  {
   "cell_type": "markdown",
   "metadata": {},
   "source": [
    "## Question 3: Do the favorite_count and retweet_count of posts change over time?"
   ]
  },
  {
   "cell_type": "markdown",
   "metadata": {},
   "source": [
    "The final question of interest for the WeRateDogs twitter page addresses how the popularity of posts changes over time.  Additionally, it gives a vague insight on the relationship between average favorites and retweets.  The following visualization shows the average amount of favorites and retweets per posts in a given month on each of their own lines plots.  "
   ]
  },
  {
   "cell_type": "markdown",
   "metadata": {},
   "source": [
    "![title](averages_by_month.png)"
   ]
  },
  {
   "cell_type": "markdown",
   "metadata": {},
   "source": [
    "**Summary of Visualization:**\n",
    "\n",
    "It is clear from the data that average retweets and favorites per month have dramatically increased from January, 2016 to September, 2017.  Additionally, there appears to be a similarity in the trend of retweets and favorites over time with consistently less retweets than favorites.  Interestingly there is a sharp spike in July of 2016.  Perhaps there was a viral post in that month?"
   ]
  }
 ],
 "metadata": {
  "kernelspec": {
   "display_name": "Python 3",
   "language": "python",
   "name": "python3"
  },
  "language_info": {
   "codemirror_mode": {
    "name": "ipython",
    "version": 3
   },
   "file_extension": ".py",
   "mimetype": "text/x-python",
   "name": "python",
   "nbconvert_exporter": "python",
   "pygments_lexer": "ipython3",
   "version": "3.7.2"
  }
 },
 "nbformat": 4,
 "nbformat_minor": 2
}
