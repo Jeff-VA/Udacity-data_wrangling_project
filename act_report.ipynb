{
 "cells": [
  {
   "cell_type": "markdown",
   "metadata": {},
   "source": [
    "\n",
    "\n",
    "\n",
    "# Insights from WeRateDogs Twitter Data"
   ]
  },
  {
   "cell_type": "markdown",
   "metadata": {},
   "source": [
    "## Question 1: Is there any significant difference between the top ten dog types and thier favorite counts?"
   ]
  },
  {
   "cell_type": "markdown",
   "metadata": {},
   "source": [
    "Through the use of python code, any differences in favorites were easily found by filtering WeRateDogs twitter data.  Prior to intepreting the visualization below, please note the following two parameters.\n",
    "- The ten dog breeds observed by each of the bars represents one of the top ten most commonly predicted dog breeds by a machine learning algorithm.\n",
    "- Each of the collumn totals represents the average number of favorites per tweet, allowing them to be compared despite the varying total posts.  "
   ]
  },
  {
   "cell_type": "markdown",
   "metadata": {},
   "source": [
    "![title](averages_of_topdogs.png)"
   ]
  },
  {
   "cell_type": "markdown",
   "metadata": {},
   "source": [
    "**Summary of Visualization:**\n",
    "\n",
    "There does appear to be a noteworthy difference in number of favorites depending on dog breed.  For example, the 'samoyed' gets more than twice the number of likes on average than the 'pug'.  However, they all appear to be within a similar range of about 5000 to 13000 favorites.  It can be reasonably assumed that many varieties of dogs are worthy of impossibly high ratings."
   ]
  },
  {
   "cell_type": "markdown",
   "metadata": {},
   "source": [
    "## Question 2: Is there any correlation between dog rating and the occorance of a dog title?"
   ]
  },
  {
   "cell_type": "markdown",
   "metadata": {},
   "source": []
  },
  {
   "cell_type": "markdown",
   "metadata": {},
   "source": [
    "## Question 3: Do the favorite_count and retweet_count of posts change over time?"
   ]
  },
  {
   "cell_type": "markdown",
   "metadata": {},
   "source": []
  },
  {
   "cell_type": "markdown",
   "metadata": {},
   "source": [
    "![title](averages_by_month.png)"
   ]
  },
  {
   "cell_type": "code",
   "execution_count": 11,
   "metadata": {},
   "outputs": [
    {
     "name": "stdout",
     "output_type": "stream",
     "text": [
      "162 Words in notebooks' markdown\n",
      "240 Words in notebooks' code\n"
     ]
    }
   ],
   "source": [
    "import io\n",
    "import os\n",
    "from nbformat import current\n",
    "\n",
    "total_markdown = 0\n",
    "total_heading = 0\n",
    "total_code = 0\n",
    "\n",
    "for root, dirs, files in os.walk(\".\"):\n",
    "    for file in files:\n",
    "        if file.endswith(\"act_report.ipynb\") and not file.endswith(\"checkpoint.ipynb\") :\n",
    "            with io.open(os.path.join(root, file), 'r', encoding='utf-8') as f:\n",
    "                nb = current.read(f, 'json')\n",
    "\n",
    "            word_count_markdown = 0\n",
    "            word_count_code = 0\n",
    "            for cell in nb.worksheets[0].cells:\n",
    "                if cell.cell_type == \"markdown\":\n",
    "                    word_count_markdown += len(cell['source'].lstrip().split(' '))\n",
    "                elif cell.cell_type == \"code\":\n",
    "                    word_count_code += len(cell['input'].replace('#', '').lstrip().split(' '))\n",
    "            total_markdown += word_count_markdown\n",
    "            total_code += word_count_code\n",
    "\n",
    "print(\"{} Words in notebooks' markdown\" .format(total_markdown))\n",
    "print(\"{} Words in notebooks' code\" .format(total_code))"
   ]
  }
 ],
 "metadata": {
  "kernelspec": {
   "display_name": "Python 3",
   "language": "python",
   "name": "python3"
  },
  "language_info": {
   "codemirror_mode": {
    "name": "ipython",
    "version": 3
   },
   "file_extension": ".py",
   "mimetype": "text/x-python",
   "name": "python",
   "nbconvert_exporter": "python",
   "pygments_lexer": "ipython3",
   "version": "3.7.2"
  }
 },
 "nbformat": 4,
 "nbformat_minor": 2
}
