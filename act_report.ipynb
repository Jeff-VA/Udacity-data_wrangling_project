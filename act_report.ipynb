{
 "cells": [
  {
   "cell_type": "markdown",
   "metadata": {},
   "source": [
    "\n",
    "\n",
    "\n",
    "# Insights from WeRateDogs Twitter Data"
   ]
  },
  {
   "cell_type": "markdown",
   "metadata": {},
   "source": [
    "## Question 1: Is there any significant difference between the top ten dog types and thier favorite counts?"
   ]
  },
  {
   "cell_type": "markdown",
   "metadata": {},
   "source": []
  },
  {
   "cell_type": "markdown",
   "metadata": {},
   "source": [
    "![title](averages_of_topdogs.png)"
   ]
  },
  {
   "cell_type": "markdown",
   "metadata": {},
   "source": [
    "## Question 2: Is there any correlation between dog rating and the occorance of a dog title?"
   ]
  },
  {
   "cell_type": "markdown",
   "metadata": {},
   "source": []
  },
  {
   "cell_type": "markdown",
   "metadata": {},
   "source": [
    "## Question 3: Do the favorite_count and retweet_count of posts change over time?"
   ]
  },
  {
   "cell_type": "markdown",
   "metadata": {},
   "source": []
  },
  {
   "cell_type": "markdown",
   "metadata": {},
   "source": [
    "![title](averages_by_month.png)"
   ]
  },
  {
   "cell_type": "code",
   "execution_count": 1,
   "metadata": {},
   "outputs": [
    {
     "name": "stdout",
     "output_type": "stream",
     "text": [
      "711 Words in notebooks' markdown\n",
      "0 Words in notebooks' code\n"
     ]
    },
    {
     "name": "stderr",
     "output_type": "stream",
     "text": [
      "C:\\Users\\jeffr\\Anaconda3\\lib\\site-packages\\nbformat\\current.py:19: UserWarning: nbformat.current is deprecated.\n",
      "\n",
      "- use nbformat for read/write/validate public API\n",
      "- use nbformat.vX directly to composing notebooks of a particular version\n",
      "\n",
      "  \"\"\")\n"
     ]
    }
   ],
   "source": [
    "import io\n",
    "import os\n",
    "from nbformat import current\n",
    "\n",
    "total_markdown = 0\n",
    "total_heading = 0\n",
    "total_code = 0\n",
    "\n",
    "for root, dirs, files in os.walk(\".\"):\n",
    "    for file in files:\n",
    "        if file.endswith(\"wrangle_report.ipynb\") and not file.endswith(\"checkpoint.ipynb\") :\n",
    "            with io.open(os.path.join(root, file), 'r', encoding='utf-8') as f:\n",
    "                nb = current.read(f, 'json')\n",
    "\n",
    "            word_count_markdown = 0\n",
    "            word_count_code = 0\n",
    "            for cell in nb.worksheets[0].cells:\n",
    "                if cell.cell_type == \"markdown\":\n",
    "                    word_count_markdown += len(cell['source'].lstrip().split(' '))\n",
    "                elif cell.cell_type == \"code\":\n",
    "                    word_count_code += len(cell['input'].replace('#', '').lstrip().split(' '))\n",
    "            total_markdown += word_count_markdown\n",
    "            total_code += word_count_code\n",
    "\n",
    "print(\"{} Words in notebooks' markdown\" .format(total_markdown))\n",
    "print(\"{} Words in notebooks' code\" .format(total_code))"
   ]
  }
 ],
 "metadata": {
  "kernelspec": {
   "display_name": "Python 3",
   "language": "python",
   "name": "python3"
  },
  "language_info": {
   "codemirror_mode": {
    "name": "ipython",
    "version": 3
   },
   "file_extension": ".py",
   "mimetype": "text/x-python",
   "name": "python",
   "nbconvert_exporter": "python",
   "pygments_lexer": "ipython3",
   "version": "3.7.2"
  }
 },
 "nbformat": 4,
 "nbformat_minor": 2
}
